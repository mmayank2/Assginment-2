{
 "cells": [
  {
   "cell_type": "markdown",
   "id": "c01e06f4-86c7-4ff3-b400-44be49b10637",
   "metadata": {},
   "source": [
    "<h1><center> <font color=\"Red\"><u>Assignment :- 2 </u></font> </center></h1>"
   ]
  },
  {
   "cell_type": "markdown",
   "id": "f3d7a73c-a156-4e07-9730-88052a506f12",
   "metadata": {},
   "source": [
    "<font color=\"Red\">Q1. How do you comment code in Python? What are the different types of comments? </font>"
   ]
  },
  {
   "cell_type": "markdown",
   "id": "c014238f-77d3-46ef-bd90-111943f82397",
   "metadata": {},
   "source": [
    "<font color =\"red\">answer:- </font>"
   ]
  },
  {
   "cell_type": "markdown",
   "id": "c4f684ea-c6f0-4ea0-8cf3-1c20b25f0448",
   "metadata": {},
   "source": [
    "Comments in Python are the lines in the code that are ignored by the interpreter during the execution of the program. Comments enhance the readability of the code and help the programmers to understand the code very easily. "
   ]
  },
  {
   "cell_type": "markdown",
   "id": "709ea749-0634-48e2-9bf3-beef1736cea1",
   "metadata": {},
   "source": [
    "There are three types of comments :-<br>\n",
    "1.Single line comments<br>\n",
    "2.Multiline comments<br>\n",
    "3.Docstring comments<br>"
   ]
  },
  {
   "cell_type": "markdown",
   "id": "ddc7e5bc-13e9-4035-af06-5ed60a05c8ff",
   "metadata": {},
   "source": [
    "<font color=\"yellow\">1. Single line comments:- </font> Python single-line comment starts with the hashtag symbol (#) with no white spaces and lasts till the end of the line. If the comment exceeds one line then put a hashtag on the next line and continue the comment"
   ]
  },
  {
   "cell_type": "code",
   "execution_count": 1,
   "id": "39d003c7-8b55-4558-885c-fd9dce166533",
   "metadata": {},
   "outputs": [
    {
     "data": {
      "text/plain": [
       "3"
      ]
     },
     "execution_count": 1,
     "metadata": {},
     "output_type": "execute_result"
    }
   ],
   "source": [
    "# this is the example of single line comment\n",
    "a=1\n",
    "b=2\n",
    "# we are adding a and b here\n",
    "a+b"
   ]
  },
  {
   "cell_type": "markdown",
   "id": "dfc0c7a5-0d0a-4483-b993-2261a508ae96",
   "metadata": {},
   "source": [
    "<font color='yellow'> 2. Multiline comment :-</font> Python does not provide the option for multiline comments. However, there are different ways through which we can write multiline comments. Multiple hashtags (#) to write multiline comments in Python. Each and every line will be considered as a single-line comment."
   ]
  },
  {
   "cell_type": "code",
   "execution_count": null,
   "id": "94bb05fb-14a7-4b2a-b18b-8fda1e7f4ddb",
   "metadata": {},
   "outputs": [],
   "source": [
    "# Here you have to write your name\n",
    "# you should use Alphabet in upper case\n",
    "# don't use number and any symbol\n",
    "n=input(\"Enter your name\")\n",
    "n"
   ]
  },
  {
   "cell_type": "markdown",
   "id": "282150ca-8183-4f72-97bf-976828875234",
   "metadata": {},
   "source": [
    "Python ignores the string literals that are not assigned to a variable so we can use these string literals as a comment. \n",
    "\n",
    "On executing the below code we can see that there will not be any output so we use the strings with triple quotes(“””) as multiline comments."
   ]
  },
  {
   "cell_type": "code",
   "execution_count": null,
   "id": "dcbc166b-f094-41f9-8082-50b7e453238b",
   "metadata": {},
   "outputs": [],
   "source": [
    "'This line is ignore by python'\n",
    "\n",
    "''' we use triple quotes for multiline comment\n",
    "as we see here python ignore this line also'''\n",
    "print('we have solved question 2 also')"
   ]
  },
  {
   "cell_type": "markdown",
   "id": "0e157175-c58d-40a2-beef-d795c57ec499",
   "metadata": {},
   "source": [
    "<font color=\"yellow\">3. Docstring:- </font> Python docstring is the string literals with triple quotes that are appeared right after the function. It is used to associate documentation that has been written with Python modules, functions, classes, and methods. It is added right below the functions, modules, or classes to describe what they do. "
   ]
  },
  {
   "cell_type": "code",
   "execution_count": null,
   "id": "0e980d9b-89ed-4d23-88eb-580b320e77ff",
   "metadata": {},
   "outputs": [],
   "source": [
    "def multiply(a, b):\n",
    "\t\"\"\"Multiplies the value of a and b\"\"\"\n",
    "\treturn a*b\n",
    "\n",
    "\n",
    "# Print the docstring of multiply function\n",
    "print(multiply.__doc__)\n"
   ]
  },
  {
   "cell_type": "markdown",
   "id": "199a1150-d83a-4f6e-a405-1dc764bf0fe9",
   "metadata": {},
   "source": [
    "<font color=\"Red\">Q2. What are variables in Python? How do you declare and assign values to variables? </font>"
   ]
  },
  {
   "cell_type": "markdown",
   "id": "3f252388-7e8d-4b47-b0c1-957fd4b6c396",
   "metadata": {},
   "source": [
    "<font color=\"red\">answer :- </font><br>\n",
    "Variable is a name that is used to refer to memory location. Python variable is also known as an identifier and used to hold value.\n",
    "or we say that Variables are containers for storing data values.\n",
    "\n",
    "In Python, we don't need to specify the type of variable because Python is a infer language and smart enough to get variable type.\n",
    "\n",
    "Variable names can be a group of both the letters and digits, but they have to begin with a letter or an underscore.\n",
    "variables are case sensetive in python."
   ]
  },
  {
   "cell_type": "markdown",
   "id": "bf5f5be3-d22e-4458-bec3-97c3488c780d",
   "metadata": {},
   "source": [
    "<u>Declaring variables and assigning values</u> :-\n",
    "\n",
    "Python does not bind us to declare a variable before using it in the application. It allows us to create a variable at the required time.\n",
    "\n",
    "We don't need to declare explicitly variable in Python. When we assign any value to the variable, that variable is declared automatically.\n",
    "\n",
    "The equal (=) operator is used to assign value to a variable."
   ]
  },
  {
   "cell_type": "code",
   "execution_count": null,
   "id": "90b977d4-2adc-46a7-b7f8-eff2ec2b3d3a",
   "metadata": {},
   "outputs": [],
   "source": [
    "# Example:-\n",
    "a=20    \n",
    "s=\"abc\" # for string \n",
    "x=y=z=s # (Assigning single value to multiple variable)\n",
    "m,n,o=25,39,45 # Assigning multible values to multiple variable.\n",
    "print(\"a =\",a)\n",
    "print(\"s =\",s)\n",
    "print(\"x =\",x)\n",
    "print(\"y =\",y)\n",
    "print(\"z =\",z)\n",
    "print(\"m =\",m)\n",
    "print(\"n =\",n)\n",
    "print(\"o =\",o)"
   ]
  },
  {
   "cell_type": "markdown",
   "id": "0ffd8596-b3f1-4186-9a7c-0cc33a40d8b6",
   "metadata": {},
   "source": [
    "<font color=\"Red\"> Q3. How do you convert one data type to another in Python? </font>"
   ]
  },
  {
   "cell_type": "markdown",
   "id": "02a62b5a-052d-4612-a34e-fedfae6349ae",
   "metadata": {},
   "source": [
    "<font color=\"red\"> answer:- </font>"
   ]
  },
  {
   "cell_type": "markdown",
   "id": "b7484591-e67b-4f78-9ac0-a4c8b414dd4c",
   "metadata": {},
   "source": [
    "Type conversion is the process of converting data of one type to another. For example: converting int data to str.\n",
    "There are two types of type conversion in Python.\n",
    "\n",
    "i. Implicit Conversion - automatic type conversion <br>\n",
    "ii. Explicit Conversion - manual type conversion\n",
    "\n",
    "i. Implicit conversion :-In certain situations, Python automatically converts one data type to another. This is known as implicit type conversion.\n",
    "<br>Example:-"
   ]
  },
  {
   "cell_type": "code",
   "execution_count": null,
   "id": "eee8c249-b8ea-4964-bccd-eba4012b6fdd",
   "metadata": {},
   "outputs": [],
   "source": [
    "a=40\n",
    "print(\"Type of a = \",a,type(a))\n",
    "b=14.9\n",
    "print(\"Type of b = \",b,type(b))\n",
    "\n",
    "z=a+b\n",
    "print(\"Type of z = \",z,type(z))"
   ]
  },
  {
   "cell_type": "markdown",
   "id": "a0d16ebf-4c42-412e-940e-25fc734c8ab2",
   "metadata": {},
   "source": [
    "In the above example, we have creates two variables:\n",
    "    a  of integer type and b of float type . Then we added these two variables and stored the result in z.\n",
    "    As we can see z has value 54.9 and is of the float datatype.\n",
    "    \n",
    "    It is because Python always converts smaller data types to larger data types to avoid the loss of data."
   ]
  },
  {
   "cell_type": "markdown",
   "id": "a2ba3399-c101-4a00-8444-750c2d22be80",
   "metadata": {},
   "source": [
    "ii. Explicit conversion:- the data type is manually changed by the user as per their requirement. With explicit type conversion, there is a risk of data loss since we are forcing an expression to be changed in some specific data type.  \n",
    "we use the built-in functions like int(),float(),str() to perform explicit type conversion.\n",
    "This type of conversion is also called typecasting because the user casts (changes) the data type of the objects.\n",
    "\n",
    "Some examples are:-"
   ]
  },
  {
   "cell_type": "markdown",
   "id": "212629a7-ffd8-4cd4-b57a-404ad88cc0e1",
   "metadata": {},
   "source": [
    "i. int(a, base): This function converts any data type to integer. ‘Base’ specifies the base in which string is if the data type is a string."
   ]
  },
  {
   "cell_type": "code",
   "execution_count": null,
   "id": "6d699cb5-5728-4e6e-8a58-71e2a19af7c9",
   "metadata": {},
   "outputs": [],
   "source": [
    "a=int(\"abc\",22)"
   ]
  },
  {
   "cell_type": "code",
   "execution_count": null,
   "id": "ab93af10-625c-4d07-9fc4-8c4e1c57a86a",
   "metadata": {},
   "outputs": [],
   "source": [
    "a"
   ]
  },
  {
   "cell_type": "code",
   "execution_count": null,
   "id": "c1179237-b3cd-412a-b957-2f78558b25df",
   "metadata": {},
   "outputs": [],
   "source": [
    "type(a)"
   ]
  },
  {
   "cell_type": "markdown",
   "id": "85bd55a8-dcf3-4f6f-8792-776980105019",
   "metadata": {},
   "source": [
    "ii. float(): This function is used to convert any data type to a floating-point number. "
   ]
  },
  {
   "cell_type": "code",
   "execution_count": null,
   "id": "d931165e-0df4-4375-81c4-d3adc1908ea4",
   "metadata": {},
   "outputs": [],
   "source": [
    "n=192\n",
    "print(\"Number brfore float type conversion =\", n)\n",
    "print(\"Number after float type conversion =\", float(n))"
   ]
  },
  {
   "cell_type": "markdown",
   "id": "9fe2b854-e839-4716-8681-2bf371fb7025",
   "metadata": {},
   "source": [
    "iii. ord() : This function is used to convert a character to integer."
   ]
  },
  {
   "cell_type": "code",
   "execution_count": null,
   "id": "f17503ee-239f-4c31-8791-18a928754bd3",
   "metadata": {},
   "outputs": [],
   "source": [
    "print(\"a =\",ord(\"a\"))"
   ]
  },
  {
   "cell_type": "markdown",
   "id": "b5938501-ba00-439f-847c-8efd78673474",
   "metadata": {},
   "source": [
    "iv. hex() : This function is to convert integer to hexadecimal string."
   ]
  },
  {
   "cell_type": "code",
   "execution_count": null,
   "id": "011e2c76-31e3-4c7f-8cea-076aa2fadb7b",
   "metadata": {},
   "outputs": [],
   "source": [
    "print(hex(56))"
   ]
  },
  {
   "cell_type": "markdown",
   "id": "dbcd742e-5506-416f-a03b-24073d2e06d2",
   "metadata": {},
   "source": [
    "5. oct() : This function is to convert integer to octal string."
   ]
  },
  {
   "cell_type": "code",
   "execution_count": null,
   "id": "21d408d1-7f26-4f1e-882c-9c5dd7a930ca",
   "metadata": {},
   "outputs": [],
   "source": [
    "print(oct(56))"
   ]
  },
  {
   "cell_type": "markdown",
   "id": "727590b1-50d2-4e98-8b6e-ec9825025f5f",
   "metadata": {},
   "source": [
    "6. tuple() : This function is used to convert to a tuple.\n",
    "7. set() : This function returns the type after converting to set.\n",
    "8. list() : This function is used to convert any data type to a list type.\n",
    "\n",
    "There are many more types of type conversion ables."
   ]
  },
  {
   "cell_type": "markdown",
   "id": "037e3786-d84e-412e-b6ba-5dc179f54eca",
   "metadata": {},
   "source": [
    "<font color=\"Red\">Q4. How do you write and execute a Python script from the command line? </font>"
   ]
  },
  {
   "cell_type": "markdown",
   "id": "0198db05-0647-46ff-a07c-4acc8d93d809",
   "metadata": {},
   "source": [
    "<font color=\"red\"> answer:- </font>"
   ]
  },
  {
   "cell_type": "markdown",
   "id": "ad8bc3d5-dcdb-454c-947f-749689b19fc9",
   "metadata": {},
   "source": [
    "we first have to check whether a python interpreter is installed on the system or not. So in windows, open ‘cmd’ (Command Prompt) and type the following command."
   ]
  },
  {
   "cell_type": "markdown",
   "id": "eb0f91d8-7193-47a7-a9fa-90c4e4ff5a51",
   "metadata": {},
   "source": [
    "python -V"
   ]
  },
  {
   "cell_type": "markdown",
   "id": "7cada6aa-9959-405c-a12f-6d4562ae30c3",
   "metadata": {},
   "source": [
    "This command will give the version number of the Python interpreter installed or will display an error if otherwise."
   ]
  },
  {
   "cell_type": "markdown",
   "id": "edf9e83d-3797-46fc-9559-bee6e1d4ac59",
   "metadata": {},
   "source": [
    "To run a Python script store in a ‘.py’ file in command line, we have to write ‘python’ keyword before the file name in the command prompt.<br>\n",
    "python hello.py <br>\n",
    "we can write your own file name in place of ‘hello.py’."
   ]
  },
  {
   "cell_type": "markdown",
   "id": "c2bf109f-9802-40b8-b54d-6e0bfe8d3917",
   "metadata": {},
   "source": [
    "<font color=\"Red\">Q5. Given a list my_list = [1, 2, 3, 4, 5], write the code to slice the list and obtain the sub-list [2, 3] </font>"
   ]
  },
  {
   "cell_type": "markdown",
   "id": "56450e77-da68-43c1-9227-7f62d22a0468",
   "metadata": {},
   "source": [
    "<font color=\"red\">answer :- </font>"
   ]
  },
  {
   "cell_type": "code",
   "execution_count": null,
   "id": "7cf0badd-1678-4c32-9459-310a394346e0",
   "metadata": {},
   "outputs": [],
   "source": [
    "my_list=[1,2,3,4,5]\n",
    "l1=my_list[1:3:1]\n",
    "l1"
   ]
  },
  {
   "cell_type": "markdown",
   "id": "307a2428-4464-482e-85df-335884e9aa6e",
   "metadata": {},
   "source": [
    "<font color=\"Red\">Q6. What is a complex number in mathematics, and how is it represented in Python? </font>"
   ]
  },
  {
   "cell_type": "markdown",
   "id": "10976a54-ca17-4b30-80a7-773c175ac00a",
   "metadata": {},
   "source": [
    "<font color=\"red\">answer:-</font>"
   ]
  },
  {
   "cell_type": "markdown",
   "id": "9669c652-2999-4e5c-834c-32226c06c93b",
   "metadata": {},
   "source": [
    "A complex number is the sum of a real number and an imaginary number. A complex number is of the form a + ib and is usually represented by z. Here both a and b are real numbers. The value 'a' is called the real part which is denoted by Re(z), and 'b' is called the imaginary part Im(z).  Also, ib is called an imaginary number.<br>\n",
    "The alphabet i is referred to as the iota and is helpful to represent the imaginary part of the complex number. Further the iota(i) is very helpful to find the square root of negative numbers. "
   ]
  },
  {
   "cell_type": "markdown",
   "id": "417c0a6d-3955-45fa-aaf5-5838e450a2d1",
   "metadata": {},
   "source": [
    "In python, Complex numbers are created from two real numbers. You can create it directly or you can use the complex function. It is written in the form of (x + yj) where x and y are real numbers and j is an imaginary number which is the square root of -1. <br><br>\n",
    "It consists of two arguments:\n",
    "\n",
    "real: It is a required input and it denotes the real part of the complex number. By default, it is 0. It can also be represented as a string like this ‘1+1j’ and in that case, the second part will be omitted.\n",
    "\n",
    "imag: It is an optional part and it denotes the imaginary part of the complex number. By default, it is 0."
   ]
  },
  {
   "cell_type": "code",
   "execution_count": null,
   "id": "5b79d49f-213b-4639-b132-6356b180bd16",
   "metadata": {},
   "outputs": [],
   "source": [
    "z = complex(5, 7)\n",
    "print(\"Output:\", z)\n",
    "print(\"Real part of complex number is \",z.real)\n",
    "print(\"Imaginary part of complex number is \",z.imag)\n",
    "\n",
    "\n",
    "z1 = complex(3)\n",
    "print(\"Output:\", z1)\n",
    "print(\"Real part of complex number is \",z1.real)\n",
    "print(\"Imaginary part of complex number is \",z1.imag)\n",
    "\n",
    "z2 = complex()\n",
    "print(\"Output:\", z2)\n",
    "print(\"Real part of complex number is \",z2.real)\n",
    "print(\"Imaginary part of complex number is \",z2.imag)\n",
    "\n",
    "z3 = complex('1+1j')\n",
    "print(\"Output:\", z3)\n",
    "print(\"Real part of complex number is \",z3.real)\n",
    "print(\"Imaginary part of complex number is \",z3.imag)"
   ]
  },
  {
   "cell_type": "markdown",
   "id": "a0f1b86f-e98a-4c03-a632-913baa57ffe2",
   "metadata": {},
   "source": [
    "<font color=\"Red\">Q7. What is the correct way to declare a variable named age and assign the value 25 to it? </font>"
   ]
  },
  {
   "cell_type": "markdown",
   "id": "b753ca70-9a2b-4dfc-88d3-69b1d5307cac",
   "metadata": {},
   "source": [
    "<font color=\"red\">answer:-</font>"
   ]
  },
  {
   "cell_type": "code",
   "execution_count": null,
   "id": "83e43953-8a9f-4ed5-abe6-812e23185ced",
   "metadata": {},
   "outputs": [],
   "source": [
    "# In Python the = symbol assigns the value on the right to the name on the left.\n",
    "age=25"
   ]
  },
  {
   "cell_type": "markdown",
   "id": "0dbbc7bf-4cfe-4a98-b10c-26db541cab8d",
   "metadata": {},
   "source": [
    "<font color=\"Red\">Q8. Declare a variable named price and assign the value 9.99 to it. What data type does this variable\n",
    "belong to? </font>"
   ]
  },
  {
   "cell_type": "markdown",
   "id": "d6bcd0d4-5e44-400c-87d5-76cb34c7dd39",
   "metadata": {},
   "source": [
    "<font color=\"red\">answer:-</font>"
   ]
  },
  {
   "cell_type": "code",
   "execution_count": null,
   "id": "70c4f72d-fb3c-411a-a83a-38f0ace053c7",
   "metadata": {},
   "outputs": [],
   "source": [
    "price=9.99\n",
    "type(price)"
   ]
  },
  {
   "cell_type": "markdown",
   "id": "5ffca74c-8ad0-44ae-8d29-4dc2c6219b5c",
   "metadata": {},
   "source": [
    "<font color=\"Red\">Q9. Create a variable named name and assign your full name to it as a string. How would you print the\n",
    "value of this variable? </font>"
   ]
  },
  {
   "cell_type": "markdown",
   "id": "f5f69e34-3ad4-4373-9517-76602f998bc9",
   "metadata": {},
   "source": [
    "<font color=\"red\">answer:-</font>"
   ]
  },
  {
   "cell_type": "code",
   "execution_count": null,
   "id": "2dff13b5-e04d-4828-b708-2d31284b8ddd",
   "metadata": {},
   "outputs": [],
   "source": [
    "name=\"Maurya Mayank\"\n",
    "print(name)"
   ]
  },
  {
   "cell_type": "markdown",
   "id": "e563b8cb-132f-47c4-a978-098946254851",
   "metadata": {},
   "source": [
    "<font color=\"Red\"> Q10. Given the string \"Hello, World!\", extract the substring \"World\". </font>"
   ]
  },
  {
   "cell_type": "markdown",
   "id": "d91e568f-a28f-4783-b4d1-43c051862d8b",
   "metadata": {},
   "source": [
    "<font color=\"red\">answer:-</font>"
   ]
  },
  {
   "cell_type": "code",
   "execution_count": null,
   "id": "07dab28e-255d-46d4-a965-4cd264f45c08",
   "metadata": {},
   "outputs": [],
   "source": [
    "s=\"Hello, World!\"\n",
    "\n",
    "s[7:12:1]"
   ]
  },
  {
   "cell_type": "markdown",
   "id": "07cb51c4-878b-418c-9fcc-12ba6ca8bd46",
   "metadata": {},
   "source": [
    "<font color=\"Red\"> Q11. Create a variable named \"is_student\" and assign it a boolean value indicating whether you are\n",
    "currently a student or not. </font>"
   ]
  },
  {
   "cell_type": "code",
   "execution_count": null,
   "id": "87a10bdd-fa1c-4a4c-9b38-3bc0b13fbd95",
   "metadata": {},
   "outputs": [],
   "source": [
    "is_student= True\n",
    "is_student"
   ]
  },
  {
   "cell_type": "code",
   "execution_count": null,
   "id": "0d58d976-ead0-4489-af3d-b0e3a1d1af85",
   "metadata": {},
   "outputs": [],
   "source": []
  },
  {
   "cell_type": "markdown",
   "id": "29ec592a-fa54-4f1f-9b09-a5000b915bdf",
   "metadata": {},
   "source": [
    "<center><b><font color=\"red\">\"\"\" ---- ASSIGNMENT_2 COMPLETED ---- \"\"\" </font></b><center>"
   ]
  },
  {
   "cell_type": "code",
   "execution_count": null,
   "id": "bda2a922-8913-4a28-ae6c-4a720a403488",
   "metadata": {},
   "outputs": [],
   "source": []
  }
 ],
 "metadata": {
  "kernelspec": {
   "display_name": "Python 3 (ipykernel)",
   "language": "python",
   "name": "python3"
  },
  "language_info": {
   "codemirror_mode": {
    "name": "ipython",
    "version": 3
   },
   "file_extension": ".py",
   "mimetype": "text/x-python",
   "name": "python",
   "nbconvert_exporter": "python",
   "pygments_lexer": "ipython3",
   "version": "3.10.8"
  }
 },
 "nbformat": 4,
 "nbformat_minor": 5
}
